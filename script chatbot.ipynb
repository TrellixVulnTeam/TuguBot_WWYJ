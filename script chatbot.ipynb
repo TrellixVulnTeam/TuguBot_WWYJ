{
 "cells": [
  {
   "cell_type": "code",
   "execution_count": 5,
   "metadata": {},
   "outputs": [
    {
     "name": "stdout",
     "output_type": "stream",
     "text": [
      "Masukkan pertanyaan anda : kon\n"
     ]
    },
    {
     "ename": "IndexError",
     "evalue": "list index out of range",
     "output_type": "error",
     "traceback": [
      "\u001b[0;31m---------------------------------------------------------------------------\u001b[0m",
      "\u001b[0;31mIndexError\u001b[0m                                Traceback (most recent call last)",
      "\u001b[0;32m<ipython-input-5-48bc7e762cfd>\u001b[0m in \u001b[0;36m<module>\u001b[0;34m\u001b[0m\n\u001b[1;32m     70\u001b[0m     \u001b[0;32mif\u001b[0m \u001b[0;34m(\u001b[0m\u001b[0mresult\u001b[0m \u001b[0;34m==\u001b[0m \u001b[0;34m-\u001b[0m\u001b[0;36m1\u001b[0m \u001b[0;34m)\u001b[0m\u001b[0;34m:\u001b[0m\u001b[0;34m\u001b[0m\u001b[0;34m\u001b[0m\u001b[0m\n\u001b[1;32m     71\u001b[0m         \u001b[0mend\u001b[0m \u001b[0;34m=\u001b[0m \u001b[0mtime\u001b[0m\u001b[0;34m.\u001b[0m\u001b[0mprocess_time\u001b[0m\u001b[0;34m(\u001b[0m\u001b[0;34m)\u001b[0m\u001b[0;34m\u001b[0m\u001b[0;34m\u001b[0m\u001b[0m\n\u001b[0;32m---> 72\u001b[0;31m         \u001b[0mnew_text\u001b[0m \u001b[0;34m=\u001b[0m \u001b[0;34m[\u001b[0m\u001b[0mi\u001b[0m \u001b[0;32mfor\u001b[0m \u001b[0mi\u001b[0m \u001b[0;32min\u001b[0m \u001b[0mtext\u001b[0m\u001b[0;34m.\u001b[0m\u001b[0msplit\u001b[0m\u001b[0;34m(\u001b[0m\u001b[0;34m'.'\u001b[0m\u001b[0;34m)\u001b[0m \u001b[0;32mif\u001b[0m \u001b[0mnew_pattern\u001b[0m \u001b[0;32min\u001b[0m \u001b[0mi\u001b[0m\u001b[0;34m.\u001b[0m\u001b[0mlower\u001b[0m\u001b[0;34m(\u001b[0m\u001b[0;34m)\u001b[0m\u001b[0;34m]\u001b[0m\u001b[0;34m[\u001b[0m\u001b[0;36m0\u001b[0m\u001b[0;34m]\u001b[0m\u001b[0;34m\u001b[0m\u001b[0;34m\u001b[0m\u001b[0m\n\u001b[0m\u001b[1;32m     73\u001b[0m         \u001b[0mprint\u001b[0m\u001b[0;34m(\u001b[0m\u001b[0mnew_text\u001b[0m\u001b[0;34m)\u001b[0m\u001b[0;34m\u001b[0m\u001b[0;34m\u001b[0m\u001b[0m\n\u001b[1;32m     74\u001b[0m     \u001b[0;32melse\u001b[0m\u001b[0;34m:\u001b[0m\u001b[0;34m\u001b[0m\u001b[0;34m\u001b[0m\u001b[0m\n",
      "\u001b[0;31mIndexError\u001b[0m: list index out of range"
     ]
    }
   ],
   "source": [
    "import time\n",
    "from Sastrawi.StopWordRemover.StopWordRemoverFactory import StopWordRemoverFactory\n",
    "\n",
    "# Boyer Moore String Search implementation in Python\n",
    "\n",
    "# Generate the Bad Character Skip List\n",
    "def generateBadCharShift(term):\n",
    "    skipList = {}\n",
    "    for i in range(0, len(term)-1):\n",
    "        skipList[term[i]] = len(term)-i-1\n",
    "    return skipList\n",
    "\n",
    "# Generate the Good Suffix Skip List\n",
    "def findSuffixPosition(badchar, suffix, full_term):\n",
    "    for offset in range(1, len(full_term)+1)[::-1]:\n",
    "        flag = True\n",
    "        for suffix_index in range(0, len(suffix)):\n",
    "            term_index = offset-len(suffix)-1+suffix_index\n",
    "            if term_index < 0 or suffix[suffix_index] == full_term[term_index]:\n",
    "                pass\n",
    "            else:\n",
    "                flag = False\n",
    "        term_index = offset-len(suffix)-1\n",
    "        if flag and (term_index <= 0 or full_term[term_index-1] != badchar):\n",
    "            return len(full_term)-offset+1\n",
    "\n",
    "def generateSuffixShift(key):\n",
    "    skipList = {}\n",
    "    buffer = \"\"\n",
    "    for i in range(0, len(key)):\n",
    "        skipList[len(buffer)] = findSuffixPosition(key[len(key)-1-i], buffer, key)\n",
    "        buffer = key[len(key)-1-i] + buffer\n",
    "    return skipList\n",
    "\n",
    "# Actual Search Algorithm\n",
    "def BMSearch(haystack, needle):\n",
    "    goodSuffix = generateSuffixShift(needle)\n",
    "    badChar = generateBadCharShift(needle)\n",
    "    i = 0\n",
    "    while i < len(haystack)-len(needle)+1:\n",
    "        j = len(needle)\n",
    "        while j > 0 and needle[j-1] == haystack[i+j-1]:\n",
    "            j -= 1\n",
    "        if j > 0:\n",
    "            badCharShift = badChar.get(haystack[i+j-1], len(needle))\n",
    "            goodSuffixShift = goodSuffix[len(needle)-j]\n",
    "            if badCharShift > goodSuffixShift:\n",
    "                i += badCharShift\n",
    "            else:\n",
    "                i += goodSuffixShift\n",
    "        else:\n",
    "            return i\n",
    "    return -1\n",
    "\n",
    "if __name__ == \"__main__\":\n",
    "    factory  = StopWordRemoverFactory()\n",
    "    stopword = factory.create_stop_word_remover()\n",
    "    \n",
    "    text = \"Jam Buka Gembiraloka adalah 08 - 5 sore . Jam Buka Malioboro yaitu dari jam 9 - 10 .Lokasi Malioboro berada di Jalan Malioboro, Sosrorumedan .  Biaya tiket masuk malioboro adalah 15 ribu\"\n",
    "    \n",
    "    pattern = input(\"Masukkan pertanyaan anda : \")\n",
    "\n",
    "    txt_lower = text.lower()\n",
    "    \n",
    "    stop_pattern = stopword.remove(pattern)\n",
    "    new_pattern  = stop_pattern\n",
    "#     print(text)\n",
    "    start = time.process_time()\n",
    "    result = BMSearch(txt_lower,new_pattern)\n",
    "    if (result == -1 ):     \n",
    "        new_text = \"ayo kita istighfar\"\n",
    "        print(new_text)\n",
    "        end = time.process_time()\n",
    "        new_text = [i for i in text.split('.') if new_pattern in i.lower()][0]\n",
    "        print(new_text)\n",
    "    else:\n",
    "        end = time.process_time()\n",
    "        new_text = [i for i in text.split('.') if new_pattern in i.lower()][0]\n",
    "        print(new_text)\n",
    "        \n",
    "#         print(\"pattern\", new_pattern,\"found at \",result)\n",
    "#         print(\"User + System Time for the Task in seconds: \",end-start)"
   ]
  },
  {
   "cell_type": "code",
   "execution_count": null,
   "metadata": {},
   "outputs": [],
   "source": []
  }
 ],
 "metadata": {
  "kernelspec": {
   "display_name": "Python 3",
   "language": "python",
   "name": "python3"
  },
  "language_info": {
   "codemirror_mode": {
    "name": "ipython",
    "version": 3
   },
   "file_extension": ".py",
   "mimetype": "text/x-python",
   "name": "python",
   "nbconvert_exporter": "python",
   "pygments_lexer": "ipython3",
   "version": "3.7.4"
  }
 },
 "nbformat": 4,
 "nbformat_minor": 4
}
