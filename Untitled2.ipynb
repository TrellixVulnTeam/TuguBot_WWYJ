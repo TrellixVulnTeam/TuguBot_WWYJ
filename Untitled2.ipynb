{
 "cells": [
  {
   "cell_type": "code",
   "execution_count": 76,
   "metadata": {},
   "outputs": [],
   "source": [
    "def generateBadCharShift(term):\n",
    "    skipList = {}\n",
    "    for i in range(0, len(term)-1):\n",
    "        skipList[term[i]] = len(term)-i-1\n",
    "    return skipList"
   ]
  },
  {
   "cell_type": "code",
   "execution_count": 77,
   "metadata": {},
   "outputs": [],
   "source": [
    "def BMSearch(text, pattern):\n",
    "    badChar = generateBadCharShift(pattern)\n",
    "    i = 0\n",
    "    while i < len(text)-len(pattern)+1:\n",
    "        j = len(pattern)\n",
    "        while j > 0 and pattern[j-1] == text[i+j-1]:\n",
    "            j -= 1\n",
    "#             print (j)\n",
    "        if j > 0:\n",
    "#             print ( j)\n",
    "            badCharShift = badChar.get(text[i+j-1], len(pattern))\n",
    "#             goodSuffixShift = goodSuffix[len(needle)-j]\n",
    "#             print (len(text)-len(pattern)+1)\n",
    "#             print (pattern[j-1])\n",
    "#             print (text[i+j-1])\n",
    "#             print (badCharShift)\n",
    "#             print (goodSuffix[len(needle)-j])\n",
    "#             if badCharShift > goodSuffixShift:\n",
    "            i += badCharShift\n",
    "#             else:\n",
    "#                 i += goodSuffixShift\n",
    "        else:\n",
    "            print(i)\n",
    "            return i\n",
    "    return -1"
   ]
  },
  {
   "cell_type": "code",
   "execution_count": 78,
   "metadata": {},
   "outputs": [
    {
     "data": {
      "text/plain": [
       "{'h': 27,\n",
       " 'a': 23,\n",
       " 'r': 1,\n",
       " 'g': 24,\n",
       " ' ': 9,\n",
       " 't': 17,\n",
       " 'i': 20,\n",
       " 'k': 19,\n",
       " 'e': 4,\n",
       " 'm': 10,\n",
       " 'u': 2,\n",
       " 's': 13,\n",
       " 'v': 8,\n",
       " 'd': 5,\n",
       " 'b': 3}"
      ]
     },
     "execution_count": 78,
     "metadata": {},
     "output_type": "execute_result"
    }
   ],
   "source": [
    "generateBadCharShift('harga tiket museum vredeburg')"
   ]
  },
  {
   "cell_type": "code",
   "execution_count": 87,
   "metadata": {},
   "outputs": [
    {
     "name": "stdout",
     "output_type": "stream",
     "text": [
      "12\n"
     ]
    }
   ],
   "source": [
    "text = 'harga tiket museum vredeburg'\n",
    "new_pattern = 'museum'\n",
    "result = BMSearch(text, new_pattern)"
   ]
  },
  {
   "cell_type": "code",
   "execution_count": 89,
   "metadata": {},
   "outputs": [
    {
     "name": "stdout",
     "output_type": "stream",
     "text": [
      "12\n",
      "berhasil ditemukan\n"
     ]
    }
   ],
   "source": [
    "print(result)\n",
    "if (result == -1):\n",
    "            # if any([x in new_pattern for x in list_wisata]):\n",
    "            #     new_text = \"Tambahkan Kota\"\n",
    "            # else:                \n",
    "    new_text = \"Mohon maaf aku tidak mengerti maksud kamu :(\"\n",
    "    print (new_text)\n",
    "else:\n",
    "    new_text = 'berhasil ditemukan'\n",
    "    print (new_text)\n",
    "#     if not new_pattern == None: \n",
    "#         new_text = [i for i in text.split('.') if new_pattern in i.lower()][0]\n",
    "#         if 'deskripsi' in new_text:\n",
    "#             new_text = new_text.replace('deskripsi','')\n",
    "#             print (new_text)"
   ]
  },
  {
   "cell_type": "code",
   "execution_count": 86,
   "metadata": {},
   "outputs": [
    {
     "name": "stdout",
     "output_type": "stream",
     "text": [
      "Mohon maaf aku tidak mengerti maksud kamu :(\n"
     ]
    }
   ],
   "source": [
    "print (new_text)"
   ]
  },
  {
   "cell_type": "code",
   "execution_count": 74,
   "metadata": {},
   "outputs": [],
   "source": [
    "term = 'makanan'\n",
    "skipList = {}"
   ]
  },
  {
   "cell_type": "code",
   "execution_count": 6,
   "metadata": {},
   "outputs": [
    {
     "name": "stdout",
     "output_type": "stream",
     "text": [
      "6\n",
      "{'m': 6}\n",
      "5\n",
      "{'m': 6, 'a': 5}\n",
      "4\n",
      "{'m': 6, 'a': 5, 'k': 4}\n",
      "3\n",
      "{'m': 6, 'a': 3, 'k': 4}\n",
      "2\n",
      "{'m': 6, 'a': 3, 'k': 4, 'n': 2}\n",
      "1\n",
      "{'m': 6, 'a': 1, 'k': 4, 'n': 2}\n"
     ]
    }
   ],
   "source": [
    "for i in range(0, len(term)-1):\n",
    "    skipList[term[i]] = len(term)-i-1\n",
    "    print (len(term)-i-1)\n",
    "    print (skipList)"
   ]
  },
  {
   "cell_type": "code",
   "execution_count": 7,
   "metadata": {},
   "outputs": [],
   "source": [
    "def findSuffixPosition(badchar, suffix, full_term):\n",
    "    for offset in range(1, len(full_term)+1)[::-1]:\n",
    "        flag = True\n",
    "        for suffix_index in range(0, len(suffix)):\n",
    "            term_index = offset-len(suffix)-1+suffix_index\n",
    "            if term_index < 0 or suffix[suffix_index] == full_term[term_index]:\n",
    "                pass\n",
    "            else:\n",
    "                flag = False\n",
    "        term_index = offset-len(suffix)-1\n",
    "        if flag and (term_index <= 0 or full_term[term_index-1] != badchar):\n",
    "            return len(full_term)-offset+1\n",
    "\n",
    "def generateSuffixShift(key):\n",
    "    skipList = {}\n",
    "    buffer = \"\"\n",
    "    for i in range(0, len(key)):\n",
    "        skipList[len(buffer)] = findSuffixPosition(key[len(key)-1-i], buffer, key)\n",
    "        buffer = key[len(key)-1-i] + buffer\n",
    "        print (key[len(key)-1-i])\n",
    "#         print(findSuffixPosition(key[len(key)-1-i], buffer, key))\n",
    "#         print (buffer)\n",
    "    return skipList"
   ]
  },
  {
   "cell_type": "code",
   "execution_count": 8,
   "metadata": {},
   "outputs": [
    {
     "name": "stdout",
     "output_type": "stream",
     "text": [
      "O\n",
      "R\n",
      "O\n",
      "B\n",
      "O\n",
      "I\n",
      "L\n",
      "A\n",
      "M\n"
     ]
    },
    {
     "data": {
      "text/plain": [
       "{0: 1, 1: 2, 2: 9, 3: 9, 4: 9, 5: 9, 6: 9, 7: 9, 8: 9}"
      ]
     },
     "execution_count": 8,
     "metadata": {},
     "output_type": "execute_result"
    }
   ],
   "source": [
    "generateSuffixShift('MALIOBORO')"
   ]
  },
  {
   "cell_type": "code",
   "execution_count": null,
   "metadata": {},
   "outputs": [],
   "source": []
  }
 ],
 "metadata": {
  "kernelspec": {
   "display_name": "Python 3",
   "language": "python",
   "name": "python3"
  },
  "language_info": {
   "codemirror_mode": {
    "name": "ipython",
    "version": 3
   },
   "file_extension": ".py",
   "mimetype": "text/x-python",
   "name": "python",
   "nbconvert_exporter": "python",
   "pygments_lexer": "ipython3",
   "version": "3.7.4"
  }
 },
 "nbformat": 4,
 "nbformat_minor": 2
}
