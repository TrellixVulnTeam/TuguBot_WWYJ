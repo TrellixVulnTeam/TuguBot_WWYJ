{
 "cells": [
  {
   "cell_type": "code",
   "execution_count": 16,
   "metadata": {},
   "outputs": [],
   "source": [
    "def generateBadCharShift(term):\n",
    "    skipList = {}\n",
    "    for i in range(0, len(term)-1):\n",
    "        skipList[term[i]] = len(term)-i-1\n",
    "    return skipList"
   ]
  },
  {
   "cell_type": "code",
   "execution_count": 17,
   "metadata": {},
   "outputs": [],
   "source": [
    "def BMSearch(haystack, needle):\n",
    "    badChar = generateBadCharShift(needle)\n",
    "    i = 0\n",
    "    while i < len(haystack)-len(needle)+1:\n",
    "        j = len(needle)\n",
    "        while j > 0 and needle[j-1] == haystack[i+j-1]:\n",
    "            j -= 1\n",
    "        if j > 0:\n",
    "            badCharShift = badChar.get(haystack[i+j-1], len(needle))\n",
    "            i += badCharShift\n",
    "            print(badCharShift)\n",
    "        else:\n",
    "            return i\n",
    "    return -1"
   ]
  },
  {
   "cell_type": "code",
   "execution_count": 18,
   "metadata": {},
   "outputs": [
    {
     "data": {
      "text/plain": [
       "{'l': 6,\n",
       " 'o': 2,\n",
       " 'k': 13,\n",
       " 'a': 7,\n",
       " 's': 11,\n",
       " 'i': 5,\n",
       " ' ': 9,\n",
       " 'm': 8,\n",
       " 'b': 3,\n",
       " 'r': 1}"
      ]
     },
     "execution_count": 18,
     "metadata": {},
     "output_type": "execute_result"
    }
   ],
   "source": [
    "generateBadCharShift('lokasi malioboro')"
   ]
  },
  {
   "cell_type": "code",
   "execution_count": 13,
   "metadata": {},
   "outputs": [
    {
     "name": "stdout",
     "output_type": "stream",
     "text": [
      "7\n"
     ]
    },
    {
     "data": {
      "text/plain": [
       "7"
      ]
     },
     "execution_count": 13,
     "metadata": {},
     "output_type": "execute_result"
    }
   ],
   "source": [
    "BMSearch('dimana lokasi malioboro', 'lokasi malioboro')"
   ]
  },
  {
   "cell_type": "code",
   "execution_count": 24,
   "metadata": {},
   "outputs": [],
   "source": [
    "term = 'kentang'\n",
    "skipList = {}"
   ]
  },
  {
   "cell_type": "code",
   "execution_count": 31,
   "metadata": {},
   "outputs": [
    {
     "name": "stdout",
     "output_type": "stream",
     "text": [
      "6\n",
      "{'k': 6, 'e': 5, 'n': 1, 't': 3, 'a': 2}\n",
      "5\n",
      "{'k': 6, 'e': 5, 'n': 1, 't': 3, 'a': 2}\n",
      "4\n",
      "{'k': 6, 'e': 5, 'n': 4, 't': 3, 'a': 2}\n",
      "3\n",
      "{'k': 6, 'e': 5, 'n': 4, 't': 3, 'a': 2}\n",
      "2\n",
      "{'k': 6, 'e': 5, 'n': 4, 't': 3, 'a': 2}\n",
      "1\n",
      "{'k': 6, 'e': 5, 'n': 1, 't': 3, 'a': 2}\n",
      "0\n",
      "{'k': 6, 'e': 5, 'n': 1, 't': 3, 'a': 2, 'g': 0}\n"
     ]
    }
   ],
   "source": [
    "for i in range(0, len(term)-1):\n",
    "    skipList[term[i]] = len(term)-i-1\n",
    "    print (len(term)-i-1)\n",
    "    print (skipList)"
   ]
  },
  {
   "cell_type": "code",
   "execution_count": null,
   "metadata": {},
   "outputs": [],
   "source": []
  },
  {
   "cell_type": "code",
   "execution_count": null,
   "metadata": {},
   "outputs": [],
   "source": []
  }
 ],
 "metadata": {
  "kernelspec": {
   "display_name": "Python 3",
   "language": "python",
   "name": "python3"
  },
  "language_info": {
   "codemirror_mode": {
    "name": "ipython",
    "version": 3
   },
   "file_extension": ".py",
   "mimetype": "text/x-python",
   "name": "python",
   "nbconvert_exporter": "python",
   "pygments_lexer": "ipython3",
   "version": "3.7.4"
  }
 },
 "nbformat": 4,
 "nbformat_minor": 2
}
