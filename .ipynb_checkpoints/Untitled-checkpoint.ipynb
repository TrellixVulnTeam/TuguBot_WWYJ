{
 "cells": [
  {
   "cell_type": "code",
   "execution_count": 22,
   "metadata": {},
   "outputs": [
    {
     "name": "stdout",
     "output_type": "stream",
     "text": [
      "Masukkan pertanyaan anda : Jam\n",
      "['Jam Buka Malioboro yaitu dari jam 9 - 10']\n",
      "pattern lokasi malioboro found at  -1\n",
      "User + System Time for the Task in seconds:  0.00020423299999983158\n"
     ]
    }
   ],
   "source": [
    "import time\n",
    "from Sastrawi.StopWordRemover.StopWordRemoverFactory import StopWordRemoverFactory\n",
    "\n",
    "# Boyer Moore String Search implementation in Python\n",
    "\n",
    "# Generate the Bad Character Skip List\n",
    "def generateBadCharShift(term):\n",
    "    skipList = {}\n",
    "    for i in range(0, len(term)-1):\n",
    "        skipList[term[i]] = len(term)-i-1\n",
    "    return skipList\n",
    "\n",
    "# Generate the Good Suffix Skip List\n",
    "def findSuffixPosition(badchar, suffix, full_term):\n",
    "    for offset in range(1, len(full_term)+1)[::-1]:\n",
    "        flag = True\n",
    "        for suffix_index in range(0, len(suffix)):\n",
    "            term_index = offset-len(suffix)-1+suffix_index\n",
    "            if term_index < 0 or suffix[suffix_index] == full_term[term_index]:\n",
    "                pass\n",
    "            else:\n",
    "                flag = False\n",
    "        term_index = offset-len(suffix)-1\n",
    "        if flag and (term_index <= 0 or full_term[term_index-1] != badchar):\n",
    "            return len(full_term)-offset+1\n",
    "\n",
    "def generateSuffixShift(key):\n",
    "    skipList = {}\n",
    "    buffer = \"\"\n",
    "    for i in range(0, len(key)):\n",
    "        skipList[len(buffer)] = findSuffixPosition(key[len(key)-1-i], buffer, key)\n",
    "        buffer = key[len(key)-1-i] + buffer\n",
    "    return skipList\n",
    "\n",
    "# Actual Search Algorithm\n",
    "def BMSearch(haystack, needle):\n",
    "    goodSuffix = generateSuffixShift(needle)\n",
    "    badChar = generateBadCharShift(needle)\n",
    "    i = 0\n",
    "    while i < len(haystack)-len(needle)+1:\n",
    "        j = len(needle)\n",
    "        while j > 0 and needle[j-1] == haystack[i+j-1]:\n",
    "            j -= 1\n",
    "        if j > 0:\n",
    "            badCharShift = badChar.get(haystack[i+j-1], len(needle))\n",
    "            goodSuffixShift = goodSuffix[len(needle)-j]\n",
    "            if badCharShift > goodSuffixShift:\n",
    "                i += badCharShift\n",
    "            else:\n",
    "                i += goodSuffixShift\n",
    "        else:\n",
    "            return i\n",
    "    return -1\n",
    "\n",
    "if __name__ == \"__main__\":\n",
    "    block = \"This is a simple example\"\n",
    "    text = [\"Jam Buka Malioboro yaitu dari jam 9 - 10 . Lokasi Malioboro berada di daerah annana .  Biaya tiket masuk malioboro\"]\n",
    "    pattern = input(\"Masukkan pertanyaan anda : \")\n",
    "    factory  = StopWordRemoverFactory()\n",
    "    stopword = factory.create_stop_word_remover()\n",
    "    stop_pattern = stopword.remove(pattern)\n",
    "    new_pattern = stop_pattern\n",
    "    print(text)\n",
    "    start = time.process_time()\n",
    "    result = BMSearch(text,pattern)\n",
    "    if (result != 1 ):     \n",
    "        end = time.process_time()\n",
    "        print(\"pattern\", new_pattern,\"found at \",result)\n",
    "        print(\"User + System Time for the Task in seconds: \",end-start)"
   ]
  },
  {
   "cell_type": "code",
   "execution_count": null,
   "metadata": {},
   "outputs": [],
   "source": []
  },
  {
   "cell_type": "code",
   "execution_count": null,
   "metadata": {},
   "outputs": [],
   "source": []
  }
 ],
 "metadata": {
  "kernelspec": {
   "display_name": "Python 3",
   "language": "python",
   "name": "python3"
  },
  "language_info": {
   "codemirror_mode": {
    "name": "ipython",
    "version": 3
   },
   "file_extension": ".py",
   "mimetype": "text/x-python",
   "name": "python",
   "nbconvert_exporter": "python",
   "pygments_lexer": "ipython3",
   "version": "3.6.9"
  }
 },
 "nbformat": 4,
 "nbformat_minor": 4
}
