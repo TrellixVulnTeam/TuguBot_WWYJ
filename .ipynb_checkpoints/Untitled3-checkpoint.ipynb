{
 "cells": [
  {
   "cell_type": "code",
   "execution_count": 1,
   "metadata": {},
   "outputs": [],
   "source": [
    "with open(\"db/daftar_kota.txt\", \"r\") as f:\n",
    "        kota = f.read().splitlines()"
   ]
  },
  {
   "cell_type": "code",
   "execution_count": 25,
   "metadata": {},
   "outputs": [
    {
     "name": "stdout",
     "output_type": "stream",
     "text": [
      "['Kebun Plasma Nuftah', 'Situs Warungboto', 'Museum Vredeburg', 'Jalan Malioboro', 'De Mata Museum', 'Masjid Gedhe Kauman', 'Tugu Jogja', 'Museum sonobudoyo', 'plengkung gading', 'Museum Bahari', 'Alun Alun Kidul', 'Alun Alun Utara', 'Taman Pelangi', 'Taman Pintar', 'Titik Nol Kilometer', 'Monumen Jogja Kembali', 'Museum Kereta Keraton', 'Taman Sari', 'Monumen Serangan Umum 1 Maret', 'Museum Sasmitaloka', 'Museum Dewantara Kirti Griya', 'Museum Sasana Wiratama', 'Gembiraloka']\n"
     ]
    }
   ],
   "source": [
    "print (kota)"
   ]
  },
  {
   "cell_type": "code",
   "execution_count": 51,
   "metadata": {},
   "outputs": [],
   "source": [
    "pertanyaan = \"Jalan Malioboro\""
   ]
  },
  {
   "cell_type": "code",
   "execution_count": 52,
   "metadata": {},
   "outputs": [
    {
     "name": "stdout",
     "output_type": "stream",
     "text": [
      "skas\n"
     ]
    }
   ],
   "source": [
    "for kata in kota:\n",
    "#     print (kata)\n",
    "    if kata != pertanyaan:\n",
    "        new_text = \"silahkan beri pertanyaan yang lebih jelas\"\n",
    "    else:\n",
    "        new_text = \"skas\"\n",
    "print (new_text)"
   ]
  },
  {
   "cell_type": "code",
   "execution_count": null,
   "metadata": {},
   "outputs": [],
   "source": []
  },
  {
   "cell_type": "code",
   "execution_count": null,
   "metadata": {},
   "outputs": [],
   "source": []
  }
 ],
 "metadata": {
  "kernelspec": {
   "display_name": "Python 3",
   "language": "python",
   "name": "python3"
  },
  "language_info": {
   "codemirror_mode": {
    "name": "ipython",
    "version": 3
   },
   "file_extension": ".py",
   "mimetype": "text/x-python",
   "name": "python",
   "nbconvert_exporter": "python",
   "pygments_lexer": "ipython3",
   "version": "3.7.4"
  }
 },
 "nbformat": 4,
 "nbformat_minor": 2
}
