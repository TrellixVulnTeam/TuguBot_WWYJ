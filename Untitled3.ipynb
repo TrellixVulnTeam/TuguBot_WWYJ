{
 "cells": [
  {
   "cell_type": "code",
   "execution_count": 87,
   "metadata": {},
   "outputs": [],
   "source": [
    "with open(\"db/daftar_kota.txt\", \"r\") as f:\n",
    "        kota = f.read().splitlines()"
   ]
  },
  {
   "cell_type": "code",
   "execution_count": 88,
   "metadata": {},
   "outputs": [
    {
     "name": "stdout",
     "output_type": "stream",
     "text": [
      "['Kebun Plasma Nuftah', 'Situs Warungboto', 'Museum Vredeburg', 'Jalan Malioboro', 'De Mata Museum', 'Masjid Gedhe Kauman', 'Tugu Jogja', 'Museum sonobudoyo', 'plengkung gading', 'Museum Bahari', 'Alun Alun Kidul', 'Alun Alun Utara', 'Taman Pelangi', 'Taman Pintar', 'Titik Nol Kilometer', 'Monumen Jogja Kembali', 'Museum Kereta Keraton', 'Taman Sari', 'Monumen Serangan Umum 1 Maret', 'Museum Sasmitaloka', 'Museum Dewantara Kirti Griya', 'Museum Sasana Wiratama', 'Gembiraloka', 'Jalan Malioboro', 'Kebun Plasma Nuftah']\n"
     ]
    }
   ],
   "source": [
    "print (kota)"
   ]
  },
  {
   "cell_type": "code",
   "execution_count": 91,
   "metadata": {},
   "outputs": [],
   "source": [
    "pertanyaan = \"Jalan Malioboro\""
   ]
  },
  {
   "cell_type": "code",
   "execution_count": 93,
   "metadata": {},
   "outputs": [
    {
     "name": "stdout",
     "output_type": "stream",
     "text": [
      "False\n",
      "False\n",
      "False\n",
      "True\n",
      "silahkan beri pertanyaan yang lebih jelas\n",
      "False\n",
      "False\n",
      "False\n",
      "False\n",
      "False\n",
      "False\n",
      "False\n",
      "False\n",
      "False\n",
      "False\n",
      "False\n",
      "False\n",
      "False\n",
      "False\n",
      "False\n",
      "False\n",
      "False\n",
      "False\n",
      "False\n",
      "True\n",
      "silahkan beri pertanyaan yang lebih jelas\n",
      "False\n"
     ]
    }
   ],
   "source": [
    "for kata in kota:\n",
    "#     print (kata)\n",
    "    print(kata == pertanyaan)\n",
    "    if kata == pertanyaan:\n",
    "        new_text = \"silahkan beri pertanyaan yang lebih jelas\"\n",
    "#         print (\"kuontol\")\n",
    "        print (new_text)\n",
    "    else:\n",
    "        new_text = 'keoas'\n",
    "#         print(\"asasd\")\n",
    "#     if kata != pertanyaan:\n",
    "#         print (kata == pertanyaan)\n",
    "#         new_text = \"silahkan beri pertanyaan yang lebih jelas\"\n",
    "#     else:\n",
    "#         new_text = \"skas"
   ]
  },
  {
   "cell_type": "code",
   "execution_count": 94,
   "metadata": {},
   "outputs": [
    {
     "ename": "SyntaxError",
     "evalue": "invalid syntax (<ipython-input-94-20cb999bc043>, line 1)",
     "output_type": "error",
     "traceback": [
      "\u001b[1;36m  File \u001b[1;32m\"<ipython-input-94-20cb999bc043>\"\u001b[1;36m, line \u001b[1;32m1\u001b[0m\n\u001b[1;33m    if pertanyaan is\u001b[0m\n\u001b[1;37m                     ^\u001b[0m\n\u001b[1;31mSyntaxError\u001b[0m\u001b[1;31m:\u001b[0m invalid syntax\n"
     ]
    }
   ],
   "source": [
    "if pertanyaan is "
   ]
  },
  {
   "cell_type": "code",
   "execution_count": null,
   "metadata": {},
   "outputs": [],
   "source": []
  }
 ],
 "metadata": {
  "kernelspec": {
   "display_name": "Python 3",
   "language": "python",
   "name": "python3"
  },
  "language_info": {
   "codemirror_mode": {
    "name": "ipython",
    "version": 3
   },
   "file_extension": ".py",
   "mimetype": "text/x-python",
   "name": "python",
   "nbconvert_exporter": "python",
   "pygments_lexer": "ipython3",
   "version": "3.7.4"
  }
 },
 "nbformat": 4,
 "nbformat_minor": 2
}
